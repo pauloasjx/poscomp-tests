{
 "cells": [
  {
   "cell_type": "code",
   "execution_count": 251,
   "metadata": {},
   "outputs": [],
   "source": [
    "from peewee import *"
   ]
  },
  {
   "cell_type": "code",
   "execution_count": 252,
   "metadata": {},
   "outputs": [],
   "source": [
    "sqlite_db = SqliteDatabase('tests.db')"
   ]
  },
  {
   "cell_type": "code",
   "execution_count": 253,
   "metadata": {},
   "outputs": [],
   "source": [
    "class BaseModel(Model):\n",
    "    class Meta:\n",
    "        database = sqlite_db"
   ]
  },
  {
   "cell_type": "code",
   "execution_count": 254,
   "metadata": {},
   "outputs": [],
   "source": [
    "class Test(BaseModel):\n",
    "    year = IntegerField()"
   ]
  },
  {
   "cell_type": "code",
   "execution_count": 255,
   "metadata": {},
   "outputs": [],
   "source": [
    "class Question(BaseModel):\n",
    "    number = IntegerField()\n",
    "    description = CharField()\n",
    "    type = CharField()\n",
    "    test_id = ForeignKeyField(Test, backref='questions')"
   ]
  },
  {
   "cell_type": "code",
   "execution_count": 256,
   "metadata": {},
   "outputs": [],
   "source": [
    "class Answer(BaseModel):\n",
    "    marker = CharField()\n",
    "    description = CharField()\n",
    "    correct = BooleanField(default=False)\n",
    "    question_id = ForeignKeyField(Question, backref='answers')"
   ]
  },
  {
   "cell_type": "code",
   "execution_count": 257,
   "metadata": {},
   "outputs": [],
   "source": [
    "sqlite_db.create_tables([Test, Question, Answer])"
   ]
  },
  {
   "cell_type": "code",
   "execution_count": 258,
   "metadata": {},
   "outputs": [],
   "source": [
    "from bs4 import BeautifulSoup"
   ]
  },
  {
   "cell_type": "code",
   "execution_count": 259,
   "metadata": {},
   "outputs": [
    {
     "name": "stdout",
     "output_type": "stream",
     "text": [
      "\u001b[1m\u001b[36m2002\u001b[m\u001b[m                  \u001b[1m\u001b[36m2009\u001b[m\u001b[m                  \u001b[1m\u001b[36m2016\u001b[m\u001b[m\r\n",
      "\u001b[1m\u001b[36m2003\u001b[m\u001b[m                  \u001b[1m\u001b[36m2010\u001b[m\u001b[m                  \u001b[1m\u001b[36m2017\u001b[m\u001b[m\r\n",
      "\u001b[1m\u001b[36m2004\u001b[m\u001b[m                  \u001b[1m\u001b[36m2011\u001b[m\u001b[m                  \u001b[1m\u001b[36m2018\u001b[m\u001b[m\r\n",
      "\u001b[1m\u001b[36m2005\u001b[m\u001b[m                  \u001b[1m\u001b[36m2012\u001b[m\u001b[m                  \u001b[1m\u001b[36m2019\u001b[m\u001b[m\r\n",
      "\u001b[1m\u001b[36m2006\u001b[m\u001b[m                  \u001b[1m\u001b[36m2013\u001b[m\u001b[m                  generate_sqlite.ipynb\r\n",
      "\u001b[1m\u001b[36m2007\u001b[m\u001b[m                  \u001b[1m\u001b[36m2014\u001b[m\u001b[m                  tests.db\r\n",
      "\u001b[1m\u001b[36m2008\u001b[m\u001b[m                  \u001b[1m\u001b[36m2015\u001b[m\u001b[m\r\n"
     ]
    }
   ],
   "source": [
    "!ls"
   ]
  },
  {
   "cell_type": "code",
   "execution_count": 260,
   "metadata": {},
   "outputs": [],
   "source": [
    "html = open('2019/test.html').read()"
   ]
  },
  {
   "cell_type": "code",
   "execution_count": 261,
   "metadata": {},
   "outputs": [],
   "source": [
    "import re\n",
    "import base64"
   ]
  },
  {
   "cell_type": "code",
   "execution_count": 262,
   "metadata": {},
   "outputs": [],
   "source": [
    "for image in re.findall(\"\\d*.png\", html):\n",
    "    html = html.replace(\n",
    "        image, \n",
    "        'data:image/png;base64,' + base64.b64encode(open('2019/images/'+image, 'rb').read()).decode('utf-8')\n",
    "    )"
   ]
  },
  {
   "cell_type": "code",
   "execution_count": 263,
   "metadata": {},
   "outputs": [],
   "source": [
    "soup = BeautifulSoup(html, 'html.parser')"
   ]
  },
  {
   "cell_type": "code",
   "execution_count": 264,
   "metadata": {},
   "outputs": [],
   "source": [
    "def get_type(index):\n",
    "    if(index < 20):\n",
    "        return 'MAT'\n",
    "    elif(index < 50):\n",
    "        return 'FUN'\n",
    "    else:\n",
    "        return 'TEC'"
   ]
  },
  {
   "cell_type": "code",
   "execution_count": 265,
   "metadata": {},
   "outputs": [],
   "source": [
    "t = Test(year = int(soup.find('year').text))\n",
    "t.save()\n",
    "for index, question in enumerate(soup.find_all('question')):\n",
    "    q = Question(\n",
    "        number=int(question.find('number').text),\n",
    "        description=question.find('description').p,\n",
    "        type=get_type(index),\n",
    "        test_id=t.id\n",
    "    )\n",
    "    q.save()\n",
    "    for marker in ['a', 'b', 'c', 'd', 'e']:\n",
    "        a = Answer(\n",
    "            marker=marker,\n",
    "            description=question.find(marker).text,\n",
    "            correct='correct' in question.find(marker).attrs,\n",
    "            question_id=q.id\n",
    "        )\n",
    "        a.save()"
   ]
  },
  {
   "cell_type": "code",
   "execution_count": null,
   "metadata": {},
   "outputs": [],
   "source": []
  },
  {
   "cell_type": "code",
   "execution_count": null,
   "metadata": {},
   "outputs": [],
   "source": []
  },
  {
   "cell_type": "code",
   "execution_count": null,
   "metadata": {},
   "outputs": [],
   "source": []
  }
 ],
 "metadata": {
  "kernelspec": {
   "display_name": "Python 3",
   "language": "python",
   "name": "python3"
  },
  "language_info": {
   "codemirror_mode": {
    "name": "ipython",
    "version": 3
   },
   "file_extension": ".py",
   "mimetype": "text/x-python",
   "name": "python",
   "nbconvert_exporter": "python",
   "pygments_lexer": "ipython3",
   "version": "3.7.5"
  }
 },
 "nbformat": 4,
 "nbformat_minor": 2
}
